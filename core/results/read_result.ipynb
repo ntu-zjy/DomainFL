{
 "cells": [
  {
   "cell_type": "code",
   "execution_count": 1,
   "metadata": {},
   "outputs": [],
   "source": [
    "import os\n",
    "import json"
   ]
  },
  {
   "cell_type": "code",
   "execution_count": 2,
   "metadata": {},
   "outputs": [],
   "source": [
    "def cal_num_ood_acc(test_data_num, acc):\n",
    "    true_test_num = 0\n",
    "    total_num = 0\n",
    "    line_acc = []\n",
    "    for i, line in enumerate(acc):\n",
    "        true_test_num_line = 0\n",
    "        total_num_line = 0\n",
    "        for j, number in enumerate(line):\n",
    "            if i != j:\n",
    "                true_test_num += int(number * test_data_num[i])\n",
    "                total_num += 100 * test_data_num[i]\n",
    "                true_test_num_line += int(number * test_data_num[i])\n",
    "                total_num_line += 100 * test_data_num[i]\n",
    "        line_acc.append(true_test_num_line / total_num_line)\n",
    "    total_acc = true_test_num / total_num\n",
    "    return line_acc, total_acc\n",
    "\n",
    "def cal_num_ind_acc(test_data_num, acc):\n",
    "    true_test_num = 0\n",
    "    total_num = 0\n",
    "    line_acc = []\n",
    "    for i, line in enumerate(acc):\n",
    "        true_test_num_line = 0\n",
    "        total_num_line = 0\n",
    "        for j, number in enumerate(line):\n",
    "            if i == j:\n",
    "                true_test_num += int(number * test_data_num[i])\n",
    "                total_num += 100 * test_data_num[i]\n",
    "                true_test_num_line += int(number * test_data_num[i])\n",
    "                total_num_line += 100 * test_data_num[i]\n",
    "        line_acc.append(true_test_num_line / total_num_line)\n",
    "    total_acc = true_test_num / total_num\n",
    "    return line_acc, total_acc\n",
    "\n",
    "def cal_avg_ood_acc(acc):\n",
    "    true_test_num = 0\n",
    "    total_num = 0\n",
    "    line_acc = []\n",
    "    for i, line in enumerate(acc):\n",
    "        true_test_num_line = 0\n",
    "        total_num_line = 0\n",
    "        for j, number in enumerate(line):\n",
    "            if i != j:\n",
    "                true_test_num += number\n",
    "                total_num += 100\n",
    "                true_test_num_line += number\n",
    "                total_num_line += 100\n",
    "        line_acc.append(true_test_num_line / total_num_line)\n",
    "    total_acc = true_test_num / total_num\n",
    "    return line_acc, total_acc\n",
    "\n",
    "def cal_avg_ind_acc(acc):\n",
    "    true_test_num = 0\n",
    "    total_num = 0\n",
    "    line_acc = []\n",
    "    for i, line in enumerate(acc):\n",
    "        true_test_num_line = 0\n",
    "        total_num_line = 0\n",
    "        for j, number in enumerate(line):\n",
    "            if i == j:\n",
    "                true_test_num += number\n",
    "                total_num += 100\n",
    "                true_test_num_line += number\n",
    "                total_num_line += 100\n",
    "        line_acc.append(true_test_num_line / total_num_line)\n",
    "    total_acc = true_test_num / total_num\n",
    "    return line_acc, total_acc\n",
    "\n",
    "def read_results(file_name):\n",
    "    print(file_name)\n",
    "    data_list = []\n",
    "    with open(file_name) as f:\n",
    "        for line in f:\n",
    "            data = json.loads(line)\n",
    "            data_list.append(data)\n",
    "    result = data_list[-1]\n",
    "    test_data_num = [308, 865, 974, 530, 1500, 174]\n",
    "    total_test_data_num = sum(test_data_num)\n",
    "\n",
    "    acc = result['acc']\n",
    "    print('accuracy:')\n",
    "    print(acc)\n",
    "\n",
    "    line_acc, total_acc = cal_avg_ood_acc(acc)\n",
    "    print('the ood accuracy of each class(by average):')\n",
    "    print(line_acc)\n",
    "    print('the total ood accuracy(by average):')\n",
    "    print(total_acc)\n",
    "\n",
    "    line_acc, total_acc = cal_num_ood_acc(test_data_num, acc)\n",
    "    print('the ood accuracy of each class(by data number):')\n",
    "    print(line_acc)\n",
    "    print('the total ood accuracy(by data number):')\n",
    "    print(total_acc)\n",
    "\n",
    "    line_acc, total_acc = cal_avg_ind_acc(acc)\n",
    "    print('the ind accuracy of each class(by average):')\n",
    "    print(line_acc)\n",
    "    print('the total ind accuracy(by average):')\n",
    "    print(total_acc)\n",
    "\n",
    "    line_acc, total_acc = cal_num_ind_acc(test_data_num, acc)\n",
    "    print('the ind accuracy of each class(by data number):')\n",
    "    print(line_acc)\n",
    "    print('the total ind accuracy(by data number):')\n",
    "    print(total_acc)\n"
   ]
  },
  {
   "cell_type": "code",
   "execution_count": 25,
   "metadata": {},
   "outputs": [
    {
     "name": "stdout",
     "output_type": "stream",
     "text": [
      "./fedproto_new/ViT-B-32_source_sub10.json\n",
      "accuracy:\n",
      "[[97.0779, 84.2775, 95.5852, 91.5094, 61.0667], [93.8312, 90.289, 97.7413, 93.5849, 69.8667], [94.4805, 87.1676, 98.0493, 94.1509, 63.4], [95.4545, 87.5145, 97.7413, 96.2264, 66.5333], [81.8182, 75.7225, 89.117, 72.6415, 89.9333]]\n",
      "the ood accuracy of each class(by average):\n",
      "[0.8310970000000001, 0.8875602499999999, 0.8479974999999998, 0.8681089999999999, 0.7982480000000001]\n",
      "the total ood accuracy(by average):\n",
      "0.84660235\n",
      "the ood accuracy of each class(by data number):\n",
      "[0.8310795454545454, 0.8875520231213873, 0.8479928131416837, 0.8680943396226415, 0.798245]\n",
      "the total ood accuracy(by data number):\n",
      "0.8396235336365813\n",
      "the ind accuracy of each class(by average):\n",
      "[0.970779, 0.90289, 0.9804930000000001, 0.962264, 0.899333]\n",
      "the total ind accuracy(by average):\n",
      "0.9431518000000001\n",
      "the ind accuracy of each class(by data number):\n",
      "[0.9707467532467533, 0.902878612716763, 0.9804928131416838, 0.9622452830188679, 0.8993266666666667]\n",
      "the total ind accuracy(by data number):\n",
      "0.9322384486473546\n"
     ]
    }
   ],
   "source": [
    "file_name='./fedproto_new/ViT-B-32_source_sub10.json'\n",
    "read_results(file_name)"
   ]
  },
  {
   "cell_type": "code",
   "execution_count": 14,
   "metadata": {},
   "outputs": [
    {
     "name": "stdout",
     "output_type": "stream",
     "text": [
      "./task_arithmetic/ViT-B-32_source_sub50.json\n",
      "accuracy:\n",
      "[[85.312, 76.5722, 88.2768, 81.0058, 46.64], [85.0911, 77.1105, 88.0326, 80.6214, 46.1867], [84.7046, 76.5722, 88.7653, 80.4933, 44.6133], [84.9807, 76.0623, 87.5848, 80.5573, 47.2933], [85.0359, 76.4023, 87.5712, 80.7816, 46.7867]]\n",
      "the ood accuracy of each class(by average):\n",
      "[0.731237, 0.7498294999999999, 0.7159584999999999, 0.7398027500000001, 0.8244775]\n",
      "the total ood accuracy(by average):\n",
      "0.7522610500000001\n",
      "the ood accuracy of each class(by data number):\n",
      "[0.7312256493506494, 0.7498236994219654, 0.7159548254620123, 0.7397924528301887, 0.8244733333333333]\n",
      "the total ood accuracy(by data number):\n",
      "0.7660892985396217\n",
      "the ind accuracy of each class(by average):\n",
      "[0.85312, 0.771105, 0.8876529999999999, 0.805573, 0.46786700000000003]\n",
      "the total ind accuracy(by average):\n",
      "0.7570636\n",
      "the ind accuracy of each class(by data number):\n",
      "[0.8531168831168832, 0.7710982658959538, 0.8876488706365503, 0.805566037735849, 0.46786666666666665]\n",
      "the total ind accuracy(by data number):\n",
      "0.6998036868565957\n"
     ]
    }
   ],
   "source": [
    "file_name='./task_arithmetic/ViT-B-32_source_sub50.json'\n",
    "read_results(file_name)"
   ]
  },
  {
   "cell_type": "code",
   "execution_count": 4,
   "metadata": {},
   "outputs": [],
   "source": [
    "def read_test_split(file_name):\n",
    "    print(file_name)\n",
    "    data_list = []\n",
    "    with open(file_name) as f:\n",
    "        for line in f:\n",
    "            data = json.loads(line)\n",
    "            data_list.append(data)\n",
    "    result = data_list[-1]\n",
    "    test_data_num = [308, 865, 974, 530, 1500, 174]\n",
    "    total_test_data_num = sum(test_data_num)\n",
    "\n",
    "    own_acc = result['own_acc']\n",
    "    print('own accuracy:')\n",
    "    print(own_acc)\n",
    "    other_acc = result['other_acc']\n",
    "    print('other accuracy:')\n",
    "\n",
    "    num = 0\n",
    "    true = 0\n",
    "    for i, own in enumerate(own_acc):\n",
    "        num += test_data_num[i]\n",
    "        true += int(own * test_data_num[i])\n",
    "    print('own accuracy:', true / num)\n",
    "\n",
    "    num = 0\n",
    "    true = 0\n",
    "    for i, other in enumerate(other_acc):\n",
    "        num += (total_test_data_num - test_data_num[i])\n",
    "        true += int(other * (total_test_data_num - test_data_num[i]))\n",
    "    print('other accuracy:', true / num)"
   ]
  },
  {
   "cell_type": "code",
   "execution_count": 5,
   "metadata": {},
   "outputs": [
    {
     "name": "stdout",
     "output_type": "stream",
     "text": [
      "./fedts_la/ViT-B-32_data2_sub10.json\n"
     ]
    },
    {
     "ename": "KeyError",
     "evalue": "'own_acc'",
     "output_type": "error",
     "traceback": [
      "\u001b[0;31m---------------------------------------------------------------------------\u001b[0m",
      "\u001b[0;31mKeyError\u001b[0m                                  Traceback (most recent call last)",
      "Cell \u001b[0;32mIn[5], line 2\u001b[0m\n\u001b[1;32m      1\u001b[0m file_name\u001b[38;5;241m=\u001b[39m\u001b[38;5;124m'\u001b[39m\u001b[38;5;124m./fedts_la/ViT-B-32_data2_sub10.json\u001b[39m\u001b[38;5;124m'\u001b[39m\n\u001b[0;32m----> 2\u001b[0m \u001b[43mread_test_split\u001b[49m\u001b[43m(\u001b[49m\u001b[43mfile_name\u001b[49m\u001b[43m)\u001b[49m\n",
      "Cell \u001b[0;32mIn[4], line 12\u001b[0m, in \u001b[0;36mread_test_split\u001b[0;34m(file_name)\u001b[0m\n\u001b[1;32m      9\u001b[0m test_data_num \u001b[38;5;241m=\u001b[39m [\u001b[38;5;241m308\u001b[39m, \u001b[38;5;241m865\u001b[39m, \u001b[38;5;241m974\u001b[39m, \u001b[38;5;241m530\u001b[39m, \u001b[38;5;241m1500\u001b[39m, \u001b[38;5;241m174\u001b[39m]\n\u001b[1;32m     10\u001b[0m total_test_data_num \u001b[38;5;241m=\u001b[39m \u001b[38;5;28msum\u001b[39m(test_data_num)\n\u001b[0;32m---> 12\u001b[0m own_acc \u001b[38;5;241m=\u001b[39m \u001b[43mresult\u001b[49m\u001b[43m[\u001b[49m\u001b[38;5;124;43m'\u001b[39;49m\u001b[38;5;124;43mown_acc\u001b[39;49m\u001b[38;5;124;43m'\u001b[39;49m\u001b[43m]\u001b[49m\n\u001b[1;32m     13\u001b[0m \u001b[38;5;28mprint\u001b[39m(\u001b[38;5;124m'\u001b[39m\u001b[38;5;124mown accuracy:\u001b[39m\u001b[38;5;124m'\u001b[39m)\n\u001b[1;32m     14\u001b[0m \u001b[38;5;28mprint\u001b[39m(own_acc)\n",
      "\u001b[0;31mKeyError\u001b[0m: 'own_acc'"
     ]
    }
   ],
   "source": [
    "file_name='./fedts_la/ViT-B-32_data2_sub10.json'\n",
    "read_test_split(file_name)"
   ]
  }
 ],
 "metadata": {
  "kernelspec": {
   "display_name": "fl",
   "language": "python",
   "name": "python3"
  },
  "language_info": {
   "codemirror_mode": {
    "name": "ipython",
    "version": 3
   },
   "file_extension": ".py",
   "mimetype": "text/x-python",
   "name": "python",
   "nbconvert_exporter": "python",
   "pygments_lexer": "ipython3",
   "version": "3.10.14"
  }
 },
 "nbformat": 4,
 "nbformat_minor": 2
}
