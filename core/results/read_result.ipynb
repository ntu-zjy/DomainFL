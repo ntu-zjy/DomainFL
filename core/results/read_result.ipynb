{
 "cells": [
  {
   "cell_type": "code",
   "execution_count": 27,
   "metadata": {},
   "outputs": [],
   "source": [
    "import os\n",
    "import json"
   ]
  },
  {
   "cell_type": "code",
   "execution_count": 28,
   "metadata": {},
   "outputs": [],
   "source": [
    "def cal_num_ood_acc(test_data_num, acc):\n",
    "    true_test_num = 0\n",
    "    total_num = 0\n",
    "    line_acc = []\n",
    "    for i, line in enumerate(acc):\n",
    "        true_test_num_line = 0\n",
    "        total_num_line = 0\n",
    "        for j, number in enumerate(line):\n",
    "            if i != j:\n",
    "                true_test_num += int(number * test_data_num[i])\n",
    "                total_num += 100 * test_data_num[i]\n",
    "                true_test_num_line += int(number * test_data_num[i])\n",
    "                total_num_line += 100 * test_data_num[i]\n",
    "        line_acc.append(true_test_num_line / total_num_line)\n",
    "    total_acc = true_test_num / total_num\n",
    "    return line_acc, total_acc\n",
    "\n",
    "def cal_num_ind_acc(test_data_num, acc):\n",
    "    true_test_num = 0\n",
    "    total_num = 0\n",
    "    line_acc = []\n",
    "    for i, line in enumerate(acc):\n",
    "        true_test_num_line = 0\n",
    "        total_num_line = 0\n",
    "        for j, number in enumerate(line):\n",
    "            if i == j:\n",
    "                true_test_num += int(number * test_data_num[i])\n",
    "                total_num += 100 * test_data_num[i]\n",
    "                true_test_num_line += int(number * test_data_num[i])\n",
    "                total_num_line += 100 * test_data_num[i]\n",
    "        line_acc.append(true_test_num_line / total_num_line)\n",
    "    total_acc = true_test_num / total_num\n",
    "    return line_acc, total_acc\n",
    "\n",
    "def cal_avg_ood_acc(acc):\n",
    "    true_test_num = 0\n",
    "    total_num = 0\n",
    "    line_acc = []\n",
    "    for i, line in enumerate(acc):\n",
    "        true_test_num_line = 0\n",
    "        total_num_line = 0\n",
    "        for j, number in enumerate(line):\n",
    "            if i != j:\n",
    "                true_test_num += number\n",
    "                total_num += 100\n",
    "                true_test_num_line += number\n",
    "                total_num_line += 100\n",
    "        line_acc.append(true_test_num_line / total_num_line)\n",
    "    total_acc = true_test_num / total_num\n",
    "    return line_acc, total_acc\n",
    "\n",
    "def cal_avg_ind_acc(acc):\n",
    "    true_test_num = 0\n",
    "    total_num = 0\n",
    "    line_acc = []\n",
    "    for i, line in enumerate(acc):\n",
    "        true_test_num_line = 0\n",
    "        total_num_line = 0\n",
    "        for j, number in enumerate(line):\n",
    "            if i == j:\n",
    "                true_test_num += number\n",
    "                total_num += 100\n",
    "                true_test_num_line += number\n",
    "                total_num_line += 100\n",
    "        line_acc.append(true_test_num_line / total_num_line)\n",
    "    total_acc = true_test_num / total_num\n",
    "    return line_acc, total_acc\n",
    "\n",
    "def read_results(file_name, sub=10, line_num=-1):\n",
    "    print(file_name)\n",
    "    data_list = []\n",
    "    with open(file_name) as f:\n",
    "        for line in f:\n",
    "            data = json.loads(line)\n",
    "            data_list.append(data)\n",
    "    result = data_list[line_num]\n",
    "    if sub == 10:\n",
    "        test_data_num = [308, 865, 974, 530, 1500, 174]\n",
    "    elif sub == 50:\n",
    "        test_data_num = [1811, 3530, 7370, 3122, 7500, 2096]\n",
    "    elif sub == 100:\n",
    "        test_data_num = [3737, 6255, 14873, 4794, 15000, 3349]\n",
    "    elif sub == 150:\n",
    "        test_data_num = [6266, 9436, 23170, 7693, 22500, 5353]\n",
    "\n",
    "    total_test_data_num = sum(test_data_num)\n",
    "\n",
    "    acc = result['acc']\n",
    "    print('accuracy:')\n",
    "    print(acc)\n",
    "\n",
    "    line_acc, total_acc = cal_avg_ood_acc(acc)\n",
    "    # print('the ood accuracy of each class(by average):')\n",
    "    # print(line_acc)\n",
    "    print('the total ood accuracy(by average):')\n",
    "    print(total_acc)\n",
    "\n",
    "    line_acc, total_acc = cal_num_ood_acc(test_data_num, acc)\n",
    "    # print('the ood accuracy of each class(by data number):')\n",
    "    # print(line_acc)\n",
    "    print('the total ood accuracy(by data number):')\n",
    "    print(total_acc)\n",
    "\n",
    "    line_acc, total_acc = cal_avg_ind_acc(acc)\n",
    "    # print('the ind accuracy of each class(by average):')\n",
    "    # print(line_acc)\n",
    "    print('the total ind accuracy(by average):')\n",
    "    print(total_acc)\n",
    "\n",
    "    line_acc, total_acc = cal_num_ind_acc(test_data_num, acc)\n",
    "    # print('the ind accuracy of each class(by data number):')\n",
    "    # print(line_acc)\n",
    "    print('the total ind accuracy(by data number):')\n",
    "    print(total_acc)\n",
    "    rounds = result['round']\n",
    "    print('round:')\n",
    "    print(rounds)\n",
    "    times = result['total_train_time']\n",
    "    print('times:')\n",
    "    print(times)\n"
   ]
  },
  {
   "cell_type": "code",
   "execution_count": 40,
   "metadata": {},
   "outputs": [
    {
     "name": "stdout",
     "output_type": "stream",
     "text": [
      "./fedprox/ViT-B-32_data_sub100.json\n",
      "accuracy:\n",
      "[[88.4132, 82.478, 92.4023, 83.8131, 28.6, 67.5127], [88.4132, 82.478, 92.4023, 83.8131, 28.6, 67.5127], [88.4132, 82.478, 92.4023, 83.8131, 28.6, 67.5127], [88.4132, 82.478, 92.4023, 83.8131, 28.6, 67.5127], [88.4132, 82.478, 92.4023, 83.8131, 28.6, 67.5127], [88.4132, 82.478, 92.4023, 83.8131, 28.6, 67.5127]]\n",
      "the total ood accuracy(by average):\n",
      "0.7386988333333332\n",
      "the total ood accuracy(by data number):\n",
      "0.7498982669555074\n",
      "the total ind accuracy(by average):\n",
      "0.7386988333333334\n",
      "the total ind accuracy(by data number):\n",
      "0.6826983002832862\n",
      "round:\n",
      "5\n",
      "times:\n",
      "629.2608547210693\n"
     ]
    }
   ],
   "source": [
    "file_name='./fedprox/ViT-B-32_data_sub100.json'\n",
    "read_results(file_name, sub=100, line_num=-2)"
   ]
  },
  {
   "cell_type": "code",
   "execution_count": 30,
   "metadata": {},
   "outputs": [
    {
     "name": "stdout",
     "output_type": "stream",
     "text": [
      "./fedavgDBE/ViT-B-16_data2_sub10.json\n"
     ]
    },
    {
     "ename": "FileNotFoundError",
     "evalue": "[Errno 2] No such file or directory: './fedavgDBE/ViT-B-16_data2_sub10.json'",
     "output_type": "error",
     "traceback": [
      "\u001b[0;31m---------------------------------------------------------------------------\u001b[0m",
      "\u001b[0;31mFileNotFoundError\u001b[0m                         Traceback (most recent call last)",
      "Cell \u001b[0;32mIn[30], line 2\u001b[0m\n\u001b[1;32m      1\u001b[0m file_name\u001b[38;5;241m=\u001b[39m\u001b[38;5;124m'\u001b[39m\u001b[38;5;124m./fedavgDBE/ViT-B-16_data2_sub10.json\u001b[39m\u001b[38;5;124m'\u001b[39m\n\u001b[0;32m----> 2\u001b[0m \u001b[43mread_results\u001b[49m\u001b[43m(\u001b[49m\u001b[43mfile_name\u001b[49m\u001b[43m)\u001b[49m\n",
      "Cell \u001b[0;32mIn[28], line 72\u001b[0m, in \u001b[0;36mread_results\u001b[0;34m(file_name, sub, line_num)\u001b[0m\n\u001b[1;32m     70\u001b[0m \u001b[38;5;28mprint\u001b[39m(file_name)\n\u001b[1;32m     71\u001b[0m data_list \u001b[38;5;241m=\u001b[39m []\n\u001b[0;32m---> 72\u001b[0m \u001b[38;5;28;01mwith\u001b[39;00m \u001b[38;5;28;43mopen\u001b[39;49m\u001b[43m(\u001b[49m\u001b[43mfile_name\u001b[49m\u001b[43m)\u001b[49m \u001b[38;5;28;01mas\u001b[39;00m f:\n\u001b[1;32m     73\u001b[0m     \u001b[38;5;28;01mfor\u001b[39;00m line \u001b[38;5;129;01min\u001b[39;00m f:\n\u001b[1;32m     74\u001b[0m         data \u001b[38;5;241m=\u001b[39m json\u001b[38;5;241m.\u001b[39mloads(line)\n",
      "File \u001b[0;32m/opt/conda/envs/fl/lib/python3.10/site-packages/IPython/core/interactiveshell.py:324\u001b[0m, in \u001b[0;36m_modified_open\u001b[0;34m(file, *args, **kwargs)\u001b[0m\n\u001b[1;32m    317\u001b[0m \u001b[38;5;28;01mif\u001b[39;00m file \u001b[38;5;129;01min\u001b[39;00m {\u001b[38;5;241m0\u001b[39m, \u001b[38;5;241m1\u001b[39m, \u001b[38;5;241m2\u001b[39m}:\n\u001b[1;32m    318\u001b[0m     \u001b[38;5;28;01mraise\u001b[39;00m \u001b[38;5;167;01mValueError\u001b[39;00m(\n\u001b[1;32m    319\u001b[0m         \u001b[38;5;124mf\u001b[39m\u001b[38;5;124m\"\u001b[39m\u001b[38;5;124mIPython won\u001b[39m\u001b[38;5;124m'\u001b[39m\u001b[38;5;124mt let you open fd=\u001b[39m\u001b[38;5;132;01m{\u001b[39;00mfile\u001b[38;5;132;01m}\u001b[39;00m\u001b[38;5;124m by default \u001b[39m\u001b[38;5;124m\"\u001b[39m\n\u001b[1;32m    320\u001b[0m         \u001b[38;5;124m\"\u001b[39m\u001b[38;5;124mas it is likely to crash IPython. If you know what you are doing, \u001b[39m\u001b[38;5;124m\"\u001b[39m\n\u001b[1;32m    321\u001b[0m         \u001b[38;5;124m\"\u001b[39m\u001b[38;5;124myou can use builtins\u001b[39m\u001b[38;5;124m'\u001b[39m\u001b[38;5;124m open.\u001b[39m\u001b[38;5;124m\"\u001b[39m\n\u001b[1;32m    322\u001b[0m     )\n\u001b[0;32m--> 324\u001b[0m \u001b[38;5;28;01mreturn\u001b[39;00m \u001b[43mio_open\u001b[49m\u001b[43m(\u001b[49m\u001b[43mfile\u001b[49m\u001b[43m,\u001b[49m\u001b[43m \u001b[49m\u001b[38;5;241;43m*\u001b[39;49m\u001b[43margs\u001b[49m\u001b[43m,\u001b[49m\u001b[43m \u001b[49m\u001b[38;5;241;43m*\u001b[39;49m\u001b[38;5;241;43m*\u001b[39;49m\u001b[43mkwargs\u001b[49m\u001b[43m)\u001b[49m\n",
      "\u001b[0;31mFileNotFoundError\u001b[0m: [Errno 2] No such file or directory: './fedavgDBE/ViT-B-16_data2_sub10.json'"
     ]
    }
   ],
   "source": [
    "file_name='./fedavgDBE/ViT-B-16_data2_sub10.json'\n",
    "read_results(file_name)"
   ]
  },
  {
   "cell_type": "code",
   "execution_count": null,
   "metadata": {},
   "outputs": [],
   "source": [
    "def read_DG(file_name):\n",
    "    print(file_name)\n",
    "    data_list = []\n",
    "    with open(file_name) as f:\n",
    "        for line in f:\n",
    "            data = json.loads(line)\n",
    "            data_list.append(data)\n",
    "    result = data_list[-1]\n",
    "    test_data_num = [100, 100, 100, 100, 100]\n",
    "    total_test_data_num = sum(test_data_num)\n",
    "\n",
    "    own_acc = result['DG_acc']\n",
    "    print('own accuracy:')\n",
    "    print(own_acc)\n",
    "\n",
    "    num = 0\n",
    "    true = 0\n",
    "    for i, own in enumerate(own_acc):\n",
    "        num += test_data_num[i]\n",
    "        true += own * test_data_num[i]\n",
    "    print('own accuracy:', true / num / 100)"
   ]
  },
  {
   "cell_type": "code",
   "execution_count": null,
   "metadata": {},
   "outputs": [
    {
     "name": "stdout",
     "output_type": "stream",
     "text": [
      "./fedmoon_DG/ViT-B-32_source_sub10.json\n",
      "own accuracy:\n",
      "[59.1333, 57.6667, 57.8, 59.0667, 58.7333]\n",
      "own accuracy: 0.5848\n"
     ]
    }
   ],
   "source": [
    "algo = 'fedmoon'\n",
    "file_name=f'./{algo}_DG/ViT-B-32_source_sub10.json'\n",
    "read_DG(file_name)"
   ]
  },
  {
   "cell_type": "code",
   "execution_count": null,
   "metadata": {},
   "outputs": [],
   "source": []
  }
 ],
 "metadata": {
  "kernelspec": {
   "display_name": "fl",
   "language": "python",
   "name": "python3"
  },
  "language_info": {
   "codemirror_mode": {
    "name": "ipython",
    "version": 3
   },
   "file_extension": ".py",
   "mimetype": "text/x-python",
   "name": "python",
   "nbconvert_exporter": "python",
   "pygments_lexer": "ipython3",
   "version": "3.1.0"
  }
 },
 "nbformat": 4,
 "nbformat_minor": 2
}
