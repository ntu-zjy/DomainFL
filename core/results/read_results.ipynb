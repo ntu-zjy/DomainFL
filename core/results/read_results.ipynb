{
 "cells": [
  {
   "cell_type": "code",
   "execution_count": 6,
   "metadata": {},
   "outputs": [],
   "source": [
    "import os\n",
    "import json"
   ]
  },
  {
   "cell_type": "code",
   "execution_count": 7,
   "metadata": {},
   "outputs": [],
   "source": [
    "def cal_num_ood_acc(test_data_num, acc):\n",
    "    true_test_num = 0\n",
    "    total_num = 0\n",
    "    line_acc = []\n",
    "    for i, line in enumerate(acc):\n",
    "        true_test_num_line = 0\n",
    "        total_num_line = 0\n",
    "        for j, number in enumerate(line):\n",
    "            if i != j:\n",
    "                true_test_num += int(number * test_data_num[i])\n",
    "                total_num += 100 * test_data_num[i]\n",
    "                true_test_num_line += int(number * test_data_num[i])\n",
    "                total_num_line += 100 * test_data_num[i]\n",
    "        line_acc.append(true_test_num_line / total_num_line)\n",
    "    total_acc = true_test_num / total_num\n",
    "    return line_acc, total_acc\n",
    "\n",
    "def cal_num_ind_acc(test_data_num, acc):\n",
    "    true_test_num = 0\n",
    "    total_num = 0\n",
    "    line_acc = []\n",
    "    for i, line in enumerate(acc):\n",
    "        true_test_num_line = 0\n",
    "        total_num_line = 0\n",
    "        for j, number in enumerate(line):\n",
    "            if i == j:\n",
    "                true_test_num += int(number * test_data_num[i])\n",
    "                total_num += 100 * test_data_num[i]\n",
    "                true_test_num_line += int(number * test_data_num[i])\n",
    "                total_num_line += 100 * test_data_num[i]\n",
    "        line_acc.append(true_test_num_line / total_num_line)\n",
    "    total_acc = true_test_num / total_num\n",
    "    return line_acc, total_acc\n",
    "\n",
    "def cal_avg_ood_acc(acc):\n",
    "    true_test_num = 0\n",
    "    total_num = 0\n",
    "    line_acc = []\n",
    "    for i, line in enumerate(acc):\n",
    "        true_test_num_line = 0\n",
    "        total_num_line = 0\n",
    "        for j, number in enumerate(line):\n",
    "            if i != j:\n",
    "                true_test_num += number\n",
    "                total_num += 100\n",
    "                true_test_num_line += number\n",
    "                total_num_line += 100\n",
    "        line_acc.append(true_test_num_line / total_num_line)\n",
    "    total_acc = true_test_num / total_num\n",
    "    return line_acc, total_acc\n",
    "\n",
    "def cal_avg_ind_acc(acc):\n",
    "    true_test_num = 0\n",
    "    total_num = 0\n",
    "    line_acc = []\n",
    "    for i, line in enumerate(acc):\n",
    "        true_test_num_line = 0\n",
    "        total_num_line = 0\n",
    "        for j, number in enumerate(line):\n",
    "            if i == j:\n",
    "                true_test_num += number\n",
    "                total_num += 100\n",
    "                true_test_num_line += number\n",
    "                total_num_line += 100\n",
    "        line_acc.append(true_test_num_line / total_num_line)\n",
    "    total_acc = true_test_num / total_num\n",
    "    return line_acc, total_acc\n",
    "\n",
    "def read_results(file_name, sub=10, line_num=-1, data=None):\n",
    "    print(file_name)\n",
    "    data_list = []\n",
    "    with open(file_name) as f:\n",
    "        for line in f:\n",
    "            data = json.loads(line)\n",
    "            data_list.append(data)\n",
    "    result = data_list[line_num]\n",
    "    if sub == 10:\n",
    "        test_data_num = [308, 865, 974, 530, 1500, 174]\n",
    "    elif sub == 50:\n",
    "        test_data_num = [1811, 3530, 7370, 3122, 7500, 2096]\n",
    "    elif sub == 100:\n",
    "        test_data_num = [3737, 6255, 14873, 4794, 15000, 3349]\n",
    "    elif sub == 150:\n",
    "        test_data_num = [6266, 9436, 23170, 7693, 22500, 5353]\n",
    "\n",
    "    if sub == 'PACS':\n",
    "        test_data_num = [1670, 373, 2048, 2344]\n",
    "\n",
    "\n",
    "    total_test_data_num = sum(test_data_num)\n",
    "\n",
    "    acc = result['acc']\n",
    "    print('accuracy:')\n",
    "    print(acc)\n",
    "\n",
    "    line_acc, total_avg_ood_acc = cal_avg_ood_acc(acc)\n",
    "    # print('the ood accuracy of each class(by average):')\n",
    "    # print(line_acc)\n",
    "    print('the total ood accuracy(by average):')\n",
    "    print(round(total_avg_ood_acc,4))\n",
    "\n",
    "    line_acc, total_num_ood_acc = cal_num_ood_acc(test_data_num, acc)\n",
    "    # print('the ood accuracy of each class(by data number):')\n",
    "    # print(line_acc)\n",
    "    print('the total ood accuracy(by data number):')\n",
    "    print(round(total_num_ood_acc,4))\n",
    "\n",
    "    line_acc, total_avg_ind_acc = cal_avg_ind_acc(acc)\n",
    "    # print('the ind accuracy of each class(by average):')\n",
    "    # print(line_acc)\n",
    "    print('the total ind accuracy(by average):')\n",
    "    print(round(total_avg_ind_acc,4))\n",
    "\n",
    "    line_acc, total_num_ind_acc = cal_num_ind_acc(test_data_num, acc)\n",
    "    # print('the ind accuracy of each class(by data number):')\n",
    "    # print(line_acc)\n",
    "    print('the total ind accuracy(by data number):')\n",
    "    print(round(total_num_ind_acc,4))\n",
    "    rounds = result['round']\n",
    "    print('round:')\n",
    "    print(rounds)\n",
    "    times = result['total_train_time']\n",
    "    print('times:')\n",
    "    print(times)\n",
    "    return total_avg_ood_acc, total_num_ood_acc, total_avg_ind_acc, total_num_ind_acc, rounds, times"
   ]
  },
  {
   "cell_type": "code",
   "execution_count": 28,
   "metadata": {},
   "outputs": [
    {
     "name": "stdout",
     "output_type": "stream",
     "text": [
      "./fedavgDBE_mixed/ViT-B-32_domainnet_sub50_mixed0.5.json\n",
      "accuracy:\n",
      "[[87.0883, 91.7906, 88.5796, 49.3992, 39.4478, 78.4694], [86.3772, 92.0845, 89.9714, 47.9347, 38.2138, 78.3673], [84.1692, 90.9826, 90.3908, 48.4604, 38.5275, 78.0612], [82.747, 88.3379, 87.8742, 57.6605, 48.0862, 75.7143], [83.3458, 89.5133, 88.3127, 57.2099, 48.4627, 78.2143], [85.2171, 91.0744, 89.3994, 50.9012, 42.9826, 81.8878]]\n",
      "the total ood accuracy(by average):\n",
      "0.7226\n",
      "the total ood accuracy(by data number):\n",
      "0.7286\n",
      "the total ind accuracy(by average):\n",
      "0.7626\n",
      "the total ind accuracy(by data number):\n",
      "0.7331\n",
      "round:\n",
      "11\n",
      "times:\n",
      "557.3250424861908\n"
     ]
    },
    {
     "data": {
      "text/plain": [
       "(0.7225607333333334,\n",
       " 0.7285613276180739,\n",
       " 0.7626243333333333,\n",
       " 0.7330512407094263,\n",
       " 11,\n",
       " 557.3250424861908)"
      ]
     },
     "execution_count": 28,
     "metadata": {},
     "output_type": "execute_result"
    }
   ],
   "source": [
    "file_name='./fedavgDBE_mixed/ViT-B-32_domainnet_sub50_mixed0.5.json'\n",
    "read_results(file_name, sub=50, line_num=-2)"
   ]
  },
  {
   "cell_type": "code",
   "execution_count": null,
   "metadata": {},
   "outputs": [
    {
     "ename": "NameError",
     "evalue": "name 'read_results' is not defined",
     "output_type": "error",
     "traceback": [
      "\u001b[0;31m---------------------------------------------------------------------------\u001b[0m",
      "\u001b[0;31mNameError\u001b[0m                                 Traceback (most recent call last)",
      "Cell \u001b[0;32mIn[1], line 2\u001b[0m\n\u001b[1;32m      1\u001b[0m file_name\u001b[38;5;241m=\u001b[39m\u001b[38;5;124m'\u001b[39m\u001b[38;5;124m/scratch/jingyuan/DomainFL/core/results/local/ViT-B-32_domainnet_sub50.json\u001b[39m\u001b[38;5;124m'\u001b[39m\n\u001b[0;32m----> 2\u001b[0m \u001b[43mread_results\u001b[49m(file_name, sub\u001b[38;5;241m=\u001b[39m\u001b[38;5;241m50\u001b[39m, line_num\u001b[38;5;241m=\u001b[39m\u001b[38;5;241m-\u001b[39m\u001b[38;5;241m2\u001b[39m)\n",
      "\u001b[0;31mNameError\u001b[0m: name 'read_results' is not defined"
     ]
    }
   ],
   "source": [
    "file_name='./DomainFL/core/results/local/ViT-B-32_domainnet_sub50.json'\n",
    "read_results(file_name, sub=50, line_num=-2)"
   ]
  },
  {
   "cell_type": "code",
   "execution_count": null,
   "metadata": {},
   "outputs": [
    {
     "name": "stdout",
     "output_type": "stream",
     "text": [
      "/scratch/jingyuan/DomainFL/core/results/fedavgDBE/convnext_base_PACS_sub7.json\n",
      "accuracy:\n",
      "[[99.7006, 96.2466, 96.2402, 97.6962], [99.7605, 95.9786, 95.8008, 98.4215], [99.8204, 95.7105, 97.3633, 97.8242], [99.7006, 94.9062, 95.2637, 98.7628]]\n",
      "the total ood accuracy(by average):\n",
      "0.9728\n",
      "the total ood accuracy(by data number):\n",
      "0.971\n",
      "the total ind accuracy(by average):\n",
      "0.9795\n",
      "the total ind accuracy(by data number):\n",
      "0.984\n",
      "round:\n",
      "12\n",
      "times:\n",
      "248.8402223587036\n"
     ]
    },
    {
     "data": {
      "text/plain": [
       "(0.9728261666666667,\n",
       " 0.970994042994043,\n",
       " 0.97951325,\n",
       " 0.983993783993784,\n",
       " 12,\n",
       " 248.8402223587036)"
      ]
     },
     "execution_count": 29,
     "metadata": {},
     "output_type": "execute_result"
    }
   ],
   "source": [
    "file_name='./DomainFL/core/results/fedavgDBE/convnext_base_PACS_sub7.json'\n",
    "read_results(file_name, sub='PACS', line_num=-2)"
   ]
  },
  {
   "cell_type": "code",
   "execution_count": null,
   "metadata": {},
   "outputs": [
    {
     "name": "stdout",
     "output_type": "stream",
     "text": [
      "/scratch/jingyuan/DomainFL/core/results/local/convnext_base_PACS_sub7.json\n",
      "accuracy:\n",
      "[[100.0, 17.6944, 91.4551, 97.6109], [9.3413, 98.9276, 10.1562, 6.7406], [98.5629, 10.992, 99.8047, 97.2696], [99.7006, 10.1877, 97.168, 99.9147]]\n",
      "the total ood accuracy(by average):\n",
      "0.5391\n",
      "the total ood accuracy(by data number):\n",
      "0.6547\n",
      "the total ind accuracy(by average):\n",
      "0.9966\n",
      "the total ind accuracy(by data number):\n",
      "0.9984\n",
      "round:\n",
      "15\n",
      "times:\n",
      "311.1959946155548\n"
     ]
    },
    {
     "data": {
      "text/plain": [
       "(0.5390660833333333,\n",
       " 0.6547464387464388,\n",
       " 0.9966174999999999,\n",
       " 0.9984444444444445,\n",
       " 15,\n",
       " 311.1959946155548)"
      ]
     },
     "execution_count": 36,
     "metadata": {},
     "output_type": "execute_result"
    }
   ],
   "source": [
    "file_name='./DomainFL/core/results/local/convnext_base_PACS_sub7.json'\n",
    "read_results(file_name, sub='PACS', line_num=-2)"
   ]
  },
  {
   "cell_type": "code",
   "execution_count": 37,
   "metadata": {},
   "outputs": [
    {
     "name": "stdout",
     "output_type": "stream",
     "text": [
      "/scratch/jingyuan/DomainFL/core/results/ours/convnext_base_PACS_sub7_sra0.1_sramcluster.json\n",
      "accuracy:\n",
      "[[99.7605, 95.9786, 98.3398, 98.9761], [99.7605, 95.9786, 98.3398, 98.9761], [99.7605, 95.9786, 98.3398, 98.9761], [99.7605, 95.9786, 98.3398, 98.9761]]\n",
      "the total ood accuracy(by average):\n",
      "0.9826\n",
      "the total ood accuracy(by data number):\n",
      "0.9808\n",
      "the total ind accuracy(by average):\n",
      "0.9826\n",
      "the total ind accuracy(by data number):\n",
      "0.988\n",
      "round:\n",
      "0\n",
      "times:\n",
      "0.6282005310058594\n"
     ]
    },
    {
     "data": {
      "text/plain": [
       "(0.9826374999999998,\n",
       " 0.9808360528360528,\n",
       " 0.9826374999999998,\n",
       " 0.98803108003108,\n",
       " 0,\n",
       " 0.6282005310058594)"
      ]
     },
     "execution_count": 37,
     "metadata": {},
     "output_type": "execute_result"
    }
   ],
   "source": [
    "file_name='./DomainFL/core/results/ours/convnext_base_PACS_sub7_sra0.1_sramcluster.json'\n",
    "read_results(file_name, sub='PACS', line_num=-1)"
   ]
  },
  {
   "cell_type": "code",
   "execution_count": null,
   "metadata": {},
   "outputs": [],
   "source": [
    "file_name='./ours/ViT-B-32_domainnet_sub100_sra0.3_sramrandom.json'\n",
    "read_results(file_name, sub=100, line_num=-1, data='domainnet')"
   ]
  },
  {
   "cell_type": "code",
   "execution_count": null,
   "metadata": {},
   "outputs": [],
   "source": [
    "file_name='./fedprox_mixed/ViT-B-32_domainnet_sub100_sra0.3_sramrandom.json'\n",
    "read_results(file_name, sub=100, line_num=-2, data='domainnet')"
   ]
  }
 ],
 "metadata": {
  "kernelspec": {
   "display_name": "DomainFL",
   "language": "python",
   "name": "python3"
  },
  "language_info": {
   "codemirror_mode": {
    "name": "ipython",
    "version": 3
   },
   "file_extension": ".py",
   "mimetype": "text/x-python",
   "name": "python",
   "nbconvert_exporter": "python",
   "pygments_lexer": "ipython3",
   "version": "3.10.14"
  }
 },
 "nbformat": 4,
 "nbformat_minor": 2
}
